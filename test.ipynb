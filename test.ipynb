{
 "cells": [
  {
   "cell_type": "code",
   "execution_count": 13,
   "metadata": {},
   "outputs": [
    {
     "name": "stdout",
     "output_type": "stream",
     "text": [
      "Dữ liệu đã được lưu vào các tệp CSV.\n"
     ]
    }
   ],
   "source": [
    "from faker import Faker\n",
    "import csv\n",
    "fake = Faker()\n",
    "\n",
    "# Tạo dữ liệu giả lập cho bảng Customer\n",
    "customer_data = []\n",
    "for _ in range(10):  # Tạo 10 khách hàng giả lập\n",
    "    customer_data.append({\n",
    "        'id': fake.unique.random_number(digits=5),\n",
    "        'first_name': fake.first_name(),\n",
    "        'last_name': fake.last_name(),\n",
    "        'email': fake.email(),\n",
    "    })\n",
    "\n",
    "# Tạo dữ liệu giả lập cho bảng Product\n",
    "product_data = []\n",
    "for _ in range(20):  # Tạo 20 sản phẩm giả lập\n",
    "    product_data.append({\n",
    "        'id': fake.unique.random_number(digits=4),\n",
    "        'name': fake.word(),\n",
    "        'description': fake.sentence(),\n",
    "        'weight': fake.random_int(min=1, max=100),\n",
    "        'unit_price': fake.random_int(min=10, max=1000),\n",
    "    })\n",
    "\n",
    "# Tạo dữ liệu giả lập cho bảng Order\n",
    "order_data = []\n",
    "for _ in range(50):  # Tạo 50 đơn hàng giả lập\n",
    "    order_data.append({\n",
    "        'purchaser': fake.random_element(elements=customer_data)['id'],\n",
    "        'quantity': fake.random_int(min=1, max=10),\n",
    "        'product_id': fake.random_element(elements=product_data)['id'],\n",
    "        'order_number': fake.unique.random_number(digits=6),\n",
    "    })\n",
    "\n",
    "# # In ra dữ liệu giả lập\n",
    "# print(\"Dữ liệu giả lập cho bảng Customer:\")\n",
    "# print(customer_data)\n",
    "# print(\"\\nDữ liệu giả lập cho bảng Product:\")\n",
    "# print(product_data)\n",
    "# print(\"\\nDữ liệu giả lập cho bảng Order:\")\n",
    "# print(order_data)\n",
    "# Lưu dữ liệu vào các tệp CSV\n",
    "with open('customers.csv', 'w', newline='') as customer_file:\n",
    "    fieldnames = ['id', 'first_name', 'last_name', 'email']\n",
    "    writer = csv.DictWriter(customer_file, fieldnames=fieldnames)\n",
    "    writer.writeheader()\n",
    "    writer.writerows(customer_data)\n",
    "\n",
    "with open('products.csv', 'w', newline='') as product_file:\n",
    "    fieldnames = ['id', 'name', 'description', 'weight', 'unit_price']\n",
    "    writer = csv.DictWriter(product_file, fieldnames=fieldnames)\n",
    "    writer.writeheader()\n",
    "    writer.writerows(product_data)\n",
    "\n",
    "with open('orders.csv', 'w', newline='') as order_file:\n",
    "    fieldnames = ['purchaser', 'quantity', 'product_id', 'order_number']\n",
    "    writer = csv.DictWriter(order_file, fieldnames=fieldnames)\n",
    "    writer.writeheader()\n",
    "    writer.writerows(order_data)\n",
    "\n",
    "print(\"Dữ liệu đã được lưu vào các tệp CSV.\")"
   ]
  }
 ],
 "metadata": {
  "kernelspec": {
   "display_name": "Python 3",
   "language": "python",
   "name": "python3"
  },
  "language_info": {
   "codemirror_mode": {
    "name": "ipython",
    "version": 3
   },
   "file_extension": ".py",
   "mimetype": "text/x-python",
   "name": "python",
   "nbconvert_exporter": "python",
   "pygments_lexer": "ipython3",
   "version": "3.12.1"
  }
 },
 "nbformat": 4,
 "nbformat_minor": 2
}
